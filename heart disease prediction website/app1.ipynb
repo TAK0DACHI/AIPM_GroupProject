{
 "cells": [
  {
   "cell_type": "code",
   "execution_count": 1,
   "id": "611b9c5a-f1d4-44e5-87a8-bf06705b46fc",
   "metadata": {},
   "outputs": [],
   "source": [
    "import numpy as np\n",
    "from flask import Flask, request, render_template\n",
    "import pickle"
   ]
  },
  {
   "cell_type": "code",
   "execution_count": 2,
   "id": "f4f6e64c-4b5b-450e-a92d-c47ba9c6d349",
   "metadata": {},
   "outputs": [],
   "source": [
    "#Create an app object using the Flask class. \n",
    "app1 = Flask(__name__)\n",
    "\n",
    "#Load the trained model. (Pickle file)\n",
    "model = pickle.load(open('models/My_ANN.pkl', 'rb'))"
   ]
  },
  {
   "cell_type": "code",
   "execution_count": 3,
   "id": "6f5e4e48-285c-433d-a31d-a4120d7606aa",
   "metadata": {},
   "outputs": [],
   "source": [
    "@app1.route('/')\n",
    "def home():\n",
    "    return render_template('modelWeb.html')"
   ]
  },
  {
   "cell_type": "code",
   "execution_count": 5,
   "id": "72af9a37-5be9-4545-8967-8bbe07a5096b",
   "metadata": {},
   "outputs": [],
   "source": [
    "@app1.route('/predict',methods=['POST'])\n",
    "def predict():\n",
    "\n",
    "    int_features = [float(x) for x in request.form.values()] #Convert string inputs to float.\n",
    "    features = [np.array(int_features)]\n",
    "    features = np.array(features).reshape(1, -1)#Convert to the form [[a, b]] for input to the model\n",
    "    prediction = model.predict(features)  # features Must be in the form [[a, b]]\n",
    "    if prediction is not None:  # Check if there's a valid prediction\n",
    "        output = prediction > 0.5  # Example condition\n",
    "        prediction_text = f\"PROBABILITY OF HAVING HEART ATTACK IS HIGH\" if output else \"PROBABILITY OF HAVING HEART ATTACK IS LOW\"\n",
    "    else:\n",
    "        prediction_text = None  \n",
    "\n",
    "    return render_template('modelWeb.html', prediction_text=prediction_text)\n"
   ]
  },
  {
   "cell_type": "code",
   "execution_count": null,
   "id": "2c1cd67f-10c9-467b-9a00-3048c0ee3485",
   "metadata": {},
   "outputs": [
    {
     "name": "stdout",
     "output_type": "stream",
     "text": [
      " * Serving Flask app '__main__'\n",
      " * Debug mode: off\n"
     ]
    },
    {
     "name": "stderr",
     "output_type": "stream",
     "text": [
      "WARNING: This is a development server. Do not use it in a production deployment. Use a production WSGI server instead.\n",
      " * Running on http://127.0.0.1:5000\n",
      "Press CTRL+C to quit\n",
      "127.0.0.1 - - [01/Jan/2025 04:18:56] \"GET / HTTP/1.1\" 200 -\n"
     ]
    }
   ],
   "source": [
    "if __name__ == \"__main__\":\n",
    "    app1.run()"
   ]
  },
  {
   "cell_type": "code",
   "execution_count": null,
   "id": "95f74a6a-6a49-42db-9260-4375b91ddd9c",
   "metadata": {},
   "outputs": [],
   "source": []
  }
 ],
 "metadata": {
  "kernelspec": {
   "display_name": "Python 3 (ipykernel)",
   "language": "python",
   "name": "python3"
  },
  "language_info": {
   "codemirror_mode": {
    "name": "ipython",
    "version": 3
   },
   "file_extension": ".py",
   "mimetype": "text/x-python",
   "name": "python",
   "nbconvert_exporter": "python",
   "pygments_lexer": "ipython3",
   "version": "3.12.4"
  }
 },
 "nbformat": 4,
 "nbformat_minor": 5
}
